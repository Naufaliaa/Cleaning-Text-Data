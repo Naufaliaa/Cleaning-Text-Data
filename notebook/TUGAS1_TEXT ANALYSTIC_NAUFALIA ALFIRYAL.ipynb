{
 "cells": [
  {
   "cell_type": "markdown",
   "id": "6becd83b-b02b-4738-a617-78855d5f20ac",
   "metadata": {},
   "source": [
    "## Nama : Naufalia Alfiryal\n",
    "\n",
    "## NIM : M0501241074"
   ]
  },
  {
   "cell_type": "markdown",
   "id": "0d8d0983-b112-4f4e-bbca-ae0a85602e2f",
   "metadata": {},
   "source": [
    "### Import Package"
   ]
  },
  {
   "cell_type": "code",
   "execution_count": 33,
   "id": "5360417b-c6a5-4286-a2e3-38a9e135e0ca",
   "metadata": {},
   "outputs": [],
   "source": [
    "#pip install emoji"
   ]
  },
  {
   "cell_type": "code",
   "execution_count": 34,
   "id": "467665e7-3009-4308-97a2-40c7f8d928d0",
   "metadata": {},
   "outputs": [],
   "source": [
    "#pip install textblob"
   ]
  },
  {
   "cell_type": "code",
   "execution_count": 35,
   "id": "78471f5c-1096-45c2-8cd1-c61059954c41",
   "metadata": {},
   "outputs": [],
   "source": [
    "import pandas as pd\n",
    "import re\n",
    "import string\n",
    "import nltk\n",
    "from nltk.tokenize import word_tokenize\n",
    "from nltk.corpus import stopwords\n",
    "from nltk.stem import WordNetLemmatizer\n",
    "from nltk.tokenize import sent_tokenize\n",
    "import emoji\n",
    "from textblob import Word\n",
    "from textblob import TextBlob"
   ]
  },
  {
   "cell_type": "code",
   "execution_count": 36,
   "id": "2197a218-fb13-4c91-aada-02ede4546526",
   "metadata": {},
   "outputs": [
    {
     "name": "stderr",
     "output_type": "stream",
     "text": [
      "[nltk_data] Downloading package punkt_tab to\n",
      "[nltk_data]     C:\\Users\\USER\\AppData\\Roaming\\nltk_data...\n",
      "[nltk_data]   Package punkt_tab is already up-to-date!\n",
      "[nltk_data] Downloading package punkt to\n",
      "[nltk_data]     C:\\Users\\USER\\AppData\\Roaming\\nltk_data...\n",
      "[nltk_data]   Package punkt is already up-to-date!\n",
      "[nltk_data] Downloading package stopwords to\n",
      "[nltk_data]     C:\\Users\\USER\\AppData\\Roaming\\nltk_data...\n",
      "[nltk_data]   Package stopwords is already up-to-date!\n",
      "[nltk_data] Downloading package wordnet to\n",
      "[nltk_data]     C:\\Users\\USER\\AppData\\Roaming\\nltk_data...\n",
      "[nltk_data]   Package wordnet is already up-to-date!\n",
      "[nltk_data] Downloading package omw-1.4 to\n",
      "[nltk_data]     C:\\Users\\USER\\AppData\\Roaming\\nltk_data...\n",
      "[nltk_data]   Package omw-1.4 is already up-to-date!\n"
     ]
    },
    {
     "data": {
      "text/plain": [
       "True"
      ]
     },
     "execution_count": 36,
     "metadata": {},
     "output_type": "execute_result"
    }
   ],
   "source": [
    "# Download NLTK resources\n",
    "nltk.download('punkt_tab')\n",
    "nltk.download('punkt')\n",
    "nltk.download('stopwords')\n",
    "nltk.download('wordnet')\n",
    "nltk.download('omw-1.4')"
   ]
  },
  {
   "cell_type": "markdown",
   "id": "7d84ec1e-c8e3-418d-b073-d242188bdfe3",
   "metadata": {},
   "source": [
    "### Import Dataset"
   ]
  },
  {
   "cell_type": "code",
   "execution_count": 37,
   "id": "306123f5-a357-48dd-a04b-ab0b8dd60934",
   "metadata": {},
   "outputs": [
    {
     "data": {
      "text/html": [
       "<div>\n",
       "<style scoped>\n",
       "    .dataframe tbody tr th:only-of-type {\n",
       "        vertical-align: middle;\n",
       "    }\n",
       "\n",
       "    .dataframe tbody tr th {\n",
       "        vertical-align: top;\n",
       "    }\n",
       "\n",
       "    .dataframe thead th {\n",
       "        text-align: right;\n",
       "    }\n",
       "</style>\n",
       "<table border=\"1\" class=\"dataframe\">\n",
       "  <thead>\n",
       "    <tr style=\"text-align: right;\">\n",
       "      <th></th>\n",
       "      <th>No</th>\n",
       "      <th>Review</th>\n",
       "    </tr>\n",
       "  </thead>\n",
       "  <tbody>\n",
       "    <tr>\n",
       "      <th>0</th>\n",
       "      <td>1</td>\n",
       "      <td>OMG!!! I absolutely love this cream 😍😍✨✨ My sk...</td>\n",
       "    </tr>\n",
       "    <tr>\n",
       "      <th>1</th>\n",
       "      <td>2</td>\n",
       "      <td>Buy it here ➡️ [www.skincarebest.com](http://w...</td>\n",
       "    </tr>\n",
       "    <tr>\n",
       "      <th>2</th>\n",
       "      <td>3</td>\n",
       "      <td>Terrible... terrible... terrible... 😡😡😡 Been u...</td>\n",
       "    </tr>\n",
       "    <tr>\n",
       "      <th>3</th>\n",
       "      <td>4</td>\n",
       "      <td>I tried this product &amp; the result? &lt;b&gt;WOW&lt;/b&gt;....</td>\n",
       "    </tr>\n",
       "    <tr>\n",
       "      <th>4</th>\n",
       "      <td>5</td>\n",
       "      <td>😏😏 Seriously, I don’t understand... I’ve been ...</td>\n",
       "    </tr>\n",
       "    <tr>\n",
       "      <th>5</th>\n",
       "      <td>6</td>\n",
       "      <td>This serum really makes my skin smooth!!! I SW...</td>\n",
       "    </tr>\n",
       "    <tr>\n",
       "      <th>6</th>\n",
       "      <td>7</td>\n",
       "      <td>People say this product is good, but in my opi...</td>\n",
       "    </tr>\n",
       "    <tr>\n",
       "      <th>7</th>\n",
       "      <td>8</td>\n",
       "      <td>It’s good, but the price is WAY TOO EXPENSIVE!...</td>\n",
       "    </tr>\n",
       "    <tr>\n",
       "      <th>8</th>\n",
       "      <td>9</td>\n",
       "      <td>🥰🥰 Is this product really good? Or is it just ...</td>\n",
       "    </tr>\n",
       "    <tr>\n",
       "      <th>9</th>\n",
       "      <td>10</td>\n",
       "      <td>good good good good good good good good good g...</td>\n",
       "    </tr>\n",
       "  </tbody>\n",
       "</table>\n",
       "</div>"
      ],
      "text/plain": [
       "   No                                             Review\n",
       "0   1  OMG!!! I absolutely love this cream 😍😍✨✨ My sk...\n",
       "1   2  Buy it here ➡️ [www.skincarebest.com](http://w...\n",
       "2   3  Terrible... terrible... terrible... 😡😡😡 Been u...\n",
       "3   4  I tried this product & the result? <b>WOW</b>....\n",
       "4   5  😏😏 Seriously, I don’t understand... I’ve been ...\n",
       "5   6  This serum really makes my skin smooth!!! I SW...\n",
       "6   7  People say this product is good, but in my opi...\n",
       "7   8  It’s good, but the price is WAY TOO EXPENSIVE!...\n",
       "8   9  🥰🥰 Is this product really good? Or is it just ...\n",
       "9  10  good good good good good good good good good g..."
      ]
     },
     "execution_count": 37,
     "metadata": {},
     "output_type": "execute_result"
    }
   ],
   "source": [
    "df = pd.read_excel('English_Reviews_Skincare.xlsx')\n",
    "df"
   ]
  },
  {
   "cell_type": "markdown",
   "id": "7dcd325a-505d-4b52-bc96-8aee6eaed93e",
   "metadata": {},
   "source": [
    "### Text Cleaning"
   ]
  },
  {
   "cell_type": "markdown",
   "id": "7cfe9e23-06ed-44f0-a9bf-26caf4060228",
   "metadata": {},
   "source": [
    "Text Cleaning terdiri dari beberapa tahapan yakni, removing URLs, removing punctuation and special characters, removing numbers, expanding contractions, converting to lowercase, handling emojis, correcting words, dan removing extra whitespaces."
   ]
  },
  {
   "cell_type": "code",
   "execution_count": 38,
   "id": "f8773e1d-c486-48a1-95e5-a01c93f29425",
   "metadata": {},
   "outputs": [],
   "source": [
    "def clean_text(text):\n",
    "    if isinstance(text, str):\n",
    "        # Removing URLs\n",
    "        text = re.sub(r'http\\S+|www\\S+|https\\S+', '', text)\n",
    "        \n",
    "        # Removing Punctuation and Special Characters\n",
    "        text = text.translate(str.maketrans('', '', string.punctuation))\n",
    "        \n",
    "        # Removing Numbers\n",
    "        text = re.sub(r'\\d+', '', text)\n",
    "        \n",
    "        # Converting to Lowercase\n",
    "        text = text.lower()\n",
    "        \n",
    "        # Handling Emojis (Removing them)\n",
    "        text = emoji.replace_emoji(text, replace='')\n",
    "        \n",
    "        # Removing Repeated Words\n",
    "        text = re.sub(r'\\b(\\w+)( \\1\\b)+', r'\\1', text)\n",
    "        \n",
    "        # Correcting Words (Exclude Specific Terms) #hal ini dilakukan karna kata \"omg\" terus berubah menjadi \"org\"\n",
    "        exceptions = [\"omg\", \"lol\", \"wow\"]\n",
    "        text = \" \".join(\n",
    "            [word if word in exceptions else str(TextBlob(word).correct()) for word in text.split()]\n",
    "        )\n",
    "        \n",
    "        # Removing Extra Whitespaces\n",
    "        text = re.sub(r'\\s+', ' ', text).strip()\n",
    "\n",
    "        return text\n",
    "    return ''"
   ]
  },
  {
   "cell_type": "code",
   "execution_count": 39,
   "id": "4952bf69-f3d4-401c-9d1d-a1ef4a409303",
   "metadata": {},
   "outputs": [
    {
     "name": "stdout",
     "output_type": "stream",
     "text": [
      "Setelah Text Cleaning:\n",
      "                                               Review  \\\n",
      "0  OMG!!! I absolutely love this cream 😍😍✨✨ My sk...   \n",
      "1  Buy it here ➡️ [www.skincarebest.com](http://w...   \n",
      "2  Terrible... terrible... terrible... 😡😡😡 Been u...   \n",
      "3  I tried this product & the result? <b>WOW</b>....   \n",
      "4  😏😏 Seriously, I don’t understand... I’ve been ...   \n",
      "\n",
      "                                      cleaned_review  \n",
      "0  omg i absolutely love this cream my skin insta...  \n",
      "1                           buy it here big discount  \n",
      "2  terrible been using it for weeks and my acne g...  \n",
      "3  i tried this product the result blow love it b...  \n",
      "4  seriously i don’t understand i’ve been using i...  \n"
     ]
    }
   ],
   "source": [
    "# Apply Text Cleaning\n",
    "df['cleaned_review'] = df['Review'].apply(clean_text)\n",
    "print(\"Setelah Text Cleaning:\\n\", df[['Review', 'cleaned_review']].head())"
   ]
  },
  {
   "cell_type": "markdown",
   "id": "9ccce4df-face-44ee-8af0-e5f3f12e1b2e",
   "metadata": {},
   "source": [
    "### Tokenization"
   ]
  },
  {
   "cell_type": "markdown",
   "id": "ac2c44b6-a4c8-4514-a7bb-53e8c7ca89bd",
   "metadata": {},
   "source": [
    "Tokenization merupakan proses membagi teks panjang, seperti paragraf atau kalimat, menjadi unit-unit yang lebih kecil dan lebih mudah dikelola serta diproses. "
   ]
  },
  {
   "cell_type": "code",
   "execution_count": 40,
   "id": "7d295b2c-81ce-4818-8406-f1984fc15b7a",
   "metadata": {},
   "outputs": [
    {
     "name": "stdout",
     "output_type": "stream",
     "text": [
      "\n",
      "Setelah Tokenization:\n",
      "                                       cleaned_review  \\\n",
      "0  omg i absolutely love this cream my skin insta...   \n",
      "1                           buy it here big discount   \n",
      "2  terrible been using it for weeks and my acne g...   \n",
      "3  i tried this product the result blow love it b...   \n",
      "4  seriously i don’t understand i’ve been using i...   \n",
      "\n",
      "                                              tokens  \n",
      "0  [omg, i, absolutely, love, this, cream, my, sk...  \n",
      "1                     [buy, it, here, big, discount]  \n",
      "2  [terrible, been, using, it, for, weeks, and, m...  \n",
      "3  [i, tried, this, product, the, result, blow, l...  \n",
      "4  [seriously, i, don, ’, t, understand, i, ’, ve...  \n"
     ]
    }
   ],
   "source": [
    "df['tokens'] = df['cleaned_review'].apply(word_tokenize)\n",
    "print(\"\\nSetelah Tokenization:\\n\", df[['cleaned_review', 'tokens']].head())"
   ]
  },
  {
   "cell_type": "markdown",
   "id": "8909c3f6-e9b9-48d8-bf2a-fb7350e0c602",
   "metadata": {},
   "source": [
    "### Stopwords Removal"
   ]
  },
  {
   "cell_type": "markdown",
   "id": "1f51eb28-a6f0-4857-b6b8-d8adcadc9ce5",
   "metadata": {},
   "source": [
    "Stopwords merupakan kata-kata yang sering muncul dalam suatu bahasa, tetapi tidak memiliki makna yang signifikan dalam analisis teks. \n",
    "\n",
    "Contohnya, seperti \"the\", \"is\", \"and\", dll."
   ]
  },
  {
   "cell_type": "code",
   "execution_count": 41,
   "id": "6362c0e5-3edf-4bf5-aeb9-aa1970f50c48",
   "metadata": {},
   "outputs": [
    {
     "name": "stdout",
     "output_type": "stream",
     "text": [
      "\n",
      "Setelah Stopwords Removal:\n",
      "                                               tokens  \\\n",
      "0  [omg, i, absolutely, love, this, cream, my, sk...   \n",
      "1                     [buy, it, here, big, discount]   \n",
      "2  [terrible, been, using, it, for, weeks, and, m...   \n",
      "3  [i, tried, this, product, the, result, blow, l...   \n",
      "4  [seriously, i, don, ’, t, understand, i, ’, ve...   \n",
      "\n",
      "                                 tokens_no_stopwords  \n",
      "0  [omg, absolutely, love, cream, skin, instantly...  \n",
      "1                               [buy, big, discount]  \n",
      "2   [terrible, using, weeks, acne, got, even, worse]  \n",
      "3  [tried, product, result, blow, love, sadly, co...  \n",
      "4  [seriously, ’, understand, ’, using, weeks, ha...  \n"
     ]
    }
   ],
   "source": [
    "stop_words = set(stopwords.words('english'))\n",
    "df['tokens_no_stopwords'] = df['tokens'].apply(lambda x: [word for word in x if word not in stop_words])\n",
    "print(\"\\nSetelah Stopwords Removal:\\n\", df[['tokens', 'tokens_no_stopwords']].head())"
   ]
  },
  {
   "cell_type": "markdown",
   "id": "8cf34bf6-e9b8-4a4d-b857-50b6f2710106",
   "metadata": {},
   "source": [
    "### Lemmatization"
   ]
  },
  {
   "cell_type": "markdown",
   "id": "1cf30ea7-e055-43d2-b995-9e090431e19a",
   "metadata": {},
   "source": [
    "Lemmatization adalah proses mengubah bentuk kata menjadi bentuk dasar atau lemma-nya. Berbeda dengan stemming yang hanya memotong akhiran kata untuk mengubahnya menjadi bentuk dasar, lemmatization mempertimbangkan konteks kata dan menggunakan kamus untuk mengubah kata menjadi bentuk dasar yang sebenarnya."
   ]
  },
  {
   "cell_type": "code",
   "execution_count": 42,
   "id": "439a9101-7240-41c7-97ea-beccf905893a",
   "metadata": {},
   "outputs": [
    {
     "name": "stdout",
     "output_type": "stream",
     "text": [
      "\n",
      "Setelah Lemmatization:\n",
      "                                  tokens_no_stopwords  \\\n",
      "0  [omg, absolutely, love, cream, skin, instantly...   \n",
      "1                               [buy, big, discount]   \n",
      "2   [terrible, using, weeks, acne, got, even, worse]   \n",
      "3  [tried, product, result, blow, love, sadly, co...   \n",
      "4  [seriously, ’, understand, ’, using, weeks, ha...   \n",
      "\n",
      "                                   tokens_lemmatized  \n",
      "0  [omg, absolutely, love, cream, skin, instantly...  \n",
      "1                               [buy, big, discount]  \n",
      "2    [terrible, using, week, acne, got, even, worse]  \n",
      "3  [tried, product, result, blow, love, sadly, co...  \n",
      "4  [seriously, ’, understand, ’, using, week, hap...  \n"
     ]
    }
   ],
   "source": [
    "lemmatizer = WordNetLemmatizer()\n",
    "df['tokens_lemmatized'] = df['tokens_no_stopwords'].apply(lambda x: [lemmatizer.lemmatize(word) for word in x])\n",
    "print(\"\\nSetelah Lemmatization:\\n\", df[['tokens_no_stopwords', 'tokens_lemmatized']].head())"
   ]
  },
  {
   "cell_type": "markdown",
   "id": "06a03cf8-b417-4c74-99c6-918b0d119190",
   "metadata": {},
   "source": [
    "### Menyimpan Data Hasil Pre-processing"
   ]
  },
  {
   "cell_type": "code",
   "execution_count": 43,
   "id": "f099790c-5185-45b3-b12e-6d0296ebe8f7",
   "metadata": {},
   "outputs": [
    {
     "name": "stdout",
     "output_type": "stream",
     "text": [
      "\n",
      "Data yang telah melalui tahapan text pre-processing akan disimpan dalam 'Cleaned_Reviews.xlsx'\n"
     ]
    }
   ],
   "source": [
    "df.to_excel(\"Cleaned_Reviews.xlsx\", index=False)\n",
    "print(\"\\nData yang telah melalui tahapan text pre-processing akan disimpan dalam 'Cleaned_Reviews.xlsx'\")"
   ]
  },
  {
   "cell_type": "markdown",
   "id": "e4fd8ddc-40b9-4e8e-9f09-c48641375041",
   "metadata": {},
   "source": [
    "### Hasil Data Keseluruhan yang Sudah Melalui Tahapan Text Pre-Processing"
   ]
  },
  {
   "cell_type": "code",
   "execution_count": 44,
   "id": "b07a6615-6129-4d13-9f4b-1867fb72c266",
   "metadata": {},
   "outputs": [
    {
     "data": {
      "image/png": "[encoded data removed]",
      "text/plain": [
       "<Figure size 640x480 with 1 Axes>"
      ]
     },
     "metadata": {},
     "output_type": "display_data"
    }
   ],
   "source": [
    "import matplotlib.pyplot as plt\n",
    "import matplotlib.image as mpimg\n",
    "\n",
    "# Load dan tampilkan gambar\n",
    "img = mpimg.imread('Cleaned_Review.png')  # Ganti path dengan lokasi file gambar\n",
    "plt.imshow(img)\n",
    "plt.axis('off')  # Sembunyikan axis\n",
    "plt.show()"
   ]
  }
 ],
 "metadata": {
  "kernelspec": {
   "display_name": "Python 3 (ipykernel)",
   "language": "python",
   "name": "python3"
  },
  "language_info": {
   "codemirror_mode": {
    "name": "ipython",
    "version": 3
   },
   "file_extension": ".py",
   "mimetype": "text/x-python",
   "name": "python",
   "nbconvert_exporter": "python",
   "pygments_lexer": "ipython3",
   "version": "3.12.4"
  }
 },
 "nbformat": 4,
 "nbformat_minor": 5
}
